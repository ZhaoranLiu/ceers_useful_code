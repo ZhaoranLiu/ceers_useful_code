{
 "cells": [
  {
   "cell_type": "code",
   "execution_count": 39,
   "id": "ca70fb74",
   "metadata": {},
   "outputs": [],
   "source": [
    "from astropy.io import fits\n",
    "import os\n",
    "\n",
    "# Open the multi-extension FITS file\n",
    "multi_extension_file = fits.open('hlsp_ceers_jwst_miri_miri3_f770w_dr0.6_i2d.fits')\n",
    "\n",
    "# Create a directory to store the individual extension files\n",
    "output_directory = 'separate_extensions'\n",
    "os.makedirs(output_directory, exist_ok=True)\n",
    "\n",
    "# Loop through each extension and save it as an individual FITS file\n",
    "for idx, extension in enumerate(multi_extension_file):\n",
    "    # Skip the primary header, which is extension 0\n",
    "    if idx == 0:\n",
    "        continue\n",
    "    \n",
    "    # Get the original extension name (optional)\n",
    "    original_extension_name = extension.name\n",
    "    # Create a filename for the individual FITS file\n",
    "    filename = f'{original_extension_name}_miri3_f770w.fits'\n",
    "    \n",
    "    # Combine with the output directory\n",
    "    full_output_path = os.path.join(output_directory, filename)\n",
    "    \n",
    "    # Save the current extension as a separate FITS file, including header information\n",
    "    extension.writeto(full_output_path, overwrite=True)\n",
    "\n",
    "# Close the original FITS file\n",
    "multi_extension_file.close()\n"
   ]
  },
  {
   "cell_type": "code",
   "execution_count": 48,
   "id": "99bf4171",
   "metadata": {},
   "outputs": [
    {
     "name": "stdout",
     "output_type": "stream",
     "text": [
      "26.99220276173625\n"
     ]
    }
   ],
   "source": [
    "import numpy as np\n",
    "hdu = fits.open('hlsp_ceers_jwst_miri_miri7_f770w_dr0.6_i2d.fits')\n",
    "pixar_sr = hdu[1].header['PIXAR_SR']\n",
    "photmjsr = hdu[1].header['PHOTMJSR']\n",
    "zp = -2.5*np.log10(pixar_sr*photmjsr)-6.1\n",
    "print(zp)"
   ]
  },
  {
   "cell_type": "code",
   "execution_count": 49,
   "id": "3c106651",
   "metadata": {},
   "outputs": [
    {
     "data": {
      "text/plain": [
       "0.09000000000000001"
      ]
     },
     "execution_count": 49,
     "metadata": {},
     "output_type": "execute_result"
    }
   ],
   "source": [
    " hdu[1].header['CDELT2']*3600"
   ]
  },
  {
   "cell_type": "code",
   "execution_count": null,
   "id": "47b14ab9",
   "metadata": {},
   "outputs": [],
   "source": []
  }
 ],
 "metadata": {
  "kernelspec": {
   "display_name": "Python 3 (ipykernel)",
   "language": "python",
   "name": "python3"
  },
  "language_info": {
   "codemirror_mode": {
    "name": "ipython",
    "version": 3
   },
   "file_extension": ".py",
   "mimetype": "text/x-python",
   "name": "python",
   "nbconvert_exporter": "python",
   "pygments_lexer": "ipython3",
   "version": "3.10.9"
  }
 },
 "nbformat": 4,
 "nbformat_minor": 5
}
